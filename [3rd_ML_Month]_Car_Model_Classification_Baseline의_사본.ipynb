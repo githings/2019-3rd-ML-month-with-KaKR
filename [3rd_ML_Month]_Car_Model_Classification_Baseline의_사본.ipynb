{
  "cells": [
    {
      "cell_type": "markdown",
      "metadata": {
        "id": "view-in-github",
        "colab_type": "text"
      },
      "source": [
        "<a href=\"https://colab.research.google.com/github/githings/2019-3rd-ML-month-with-KaKR/blob/main/%5B3rd_ML_Month%5D_Car_Model_Classification_Baseline%EC%9D%98_%EC%82%AC%EB%B3%B8.ipynb\" target=\"_parent\"><img src=\"https://colab.research.google.com/assets/colab-badge.svg\" alt=\"Open In Colab\"/></a>"
      ]
    },
    {
      "source": [
        "# IMPORTANT: SOME KAGGLE DATA SOURCES ARE PRIVATE\n",
        "# RUN THIS CELL IN ORDER TO IMPORT YOUR KAGGLE DATA SOURCES.\n",
        "import kagglehub\n",
        "kagglehub.login()\n",
        "#{\"username\":\"afinar\",\"key\":\"ec051dfaffc4ae611757ec84caee7553\"}\n"
      ],
      "metadata": {
        "id": "I3DPyxVVwupf",
        "outputId": "f57715fe-66f0-448c-d1f8-780c518c11f6",
        "colab": {
          "base_uri": "https://localhost:8080/",
          "height": 86,
          "referenced_widgets": [
            "25096cd6eee94da98e9047ddf9eb6d26",
            "7f1d264f0c514a8e8f5ac546058d446e",
            "1045f02715a34474ae30de57fbb80444",
            "fca04562501f4b4d95e28051c80539a9",
            "9fc9f1d356fa47b9a61fd697508417ea",
            "8c64578657ba4d528bdfd73418e493c7",
            "034b61fc9b334239bb7cc32c58314293",
            "76ccf3a6792347b6b39d8d6da40e5186",
            "49d83645ca7e4a7ab0bfa0da453d0a02",
            "f54d8a09d0994cb28614dd79aaf53194",
            "0ef7be60d01f477fa827188ea08ac9d8",
            "c7b27bcea23043cb808e12fd47b453f0",
            "c1677ed3ea974227acef427ad7c4d30c",
            "2ab22b044ff043cca292d0a7808f8fca",
            "d13eb97b6d2a4ce8bbee1f591700b5a5",
            "7e4fb830dfd64ed0b462c30641ed720f",
            "0fc0df5c56fb44809bdb0ade9052936b",
            "c1c6b11c0f7641f2821447b4f2388f12",
            "75ec933edcd94bf386775350e03676f4",
            "e19741a0fedf40abbc7d7368a10bf640",
            "11c46aa05cbb45cfa836aa8edd02f9b4",
            "6f6b86c3405749bbb1a7627929d1418a",
            "c329ba00193d4598bfa274f00a84efd3"
          ]
        }
      },
      "cell_type": "code",
      "outputs": [
        {
          "output_type": "display_data",
          "data": {
            "text/plain": [
              "VBox(children=(HTML(value='<center> <img\\nsrc=https://www.kaggle.com/static/images/site-logo.png\\nalt=\\'Kaggle…"
            ],
            "application/vnd.jupyter.widget-view+json": {
              "version_major": 2,
              "version_minor": 0,
              "model_id": "25096cd6eee94da98e9047ddf9eb6d26"
            }
          },
          "metadata": {}
        },
        {
          "output_type": "stream",
          "name": "stdout",
          "text": [
            "Kaggle credentials set.\n",
            "Kaggle credentials successfully validated.\n"
          ]
        }
      ],
      "execution_count": null
    },
    {
      "source": [
        "# IMPORTANT: RUN THIS CELL IN ORDER TO IMPORT YOUR KAGGLE DATA SOURCES,\n",
        "# THEN FEEL FREE TO DELETE THIS CELL.\n",
        "# NOTE: THIS NOTEBOOK ENVIRONMENT DIFFERS FROM KAGGLE'S PYTHON\n",
        "# ENVIRONMENT SO THERE MAY BE MISSING LIBRARIES USED BY YOUR\n",
        "# NOTEBOOK.\n",
        "\n",
        "ml_month_with_kakr_path = kagglehub.competition_download('2019-3rd-ml-month-with-kakr')\n",
        "\n",
        "print('Data source import complete.')\n"
      ],
      "metadata": {
        "id": "btO9f2X3wuph",
        "outputId": "d6faad19-e1bb-4f72-8c9d-98dc0a2f618d",
        "colab": {
          "base_uri": "https://localhost:8080/"
        }
      },
      "cell_type": "code",
      "outputs": [
        {
          "output_type": "stream",
          "name": "stdout",
          "text": [
            "Downloading from https://www.kaggle.com/api/v1/competitions/data/download-all/2019-3rd-ml-month-with-kakr...\n"
          ]
        },
        {
          "output_type": "stream",
          "name": "stderr",
          "text": [
            "100%|██████████| 1.82G/1.82G [00:20<00:00, 95.6MB/s]"
          ]
        },
        {
          "output_type": "stream",
          "name": "stdout",
          "text": [
            "Extracting files...\n"
          ]
        },
        {
          "output_type": "stream",
          "name": "stderr",
          "text": [
            "\n"
          ]
        },
        {
          "output_type": "stream",
          "name": "stdout",
          "text": [
            "Data source import complete.\n"
          ]
        }
      ],
      "execution_count": null
    },
    {
      "metadata": {
        "id": "4lN2iVCrwuph"
      },
      "cell_type": "markdown",
      "source": [
        "### Modified\n",
        "2019.07.10 - 새 데이터셋 실행\n",
        "2019.07.11 - 수정된 데이터 재실행"
      ]
    },
    {
      "metadata": {
        "id": "Q4mvs_cYwupj"
      },
      "cell_type": "markdown",
      "source": [
        "# <center>3rd ML Month - Car Model Classification </center>\n",
        "![Main Image](https://t1.daumcdn.net/cfile/tistory/2738983451EB766507)"
      ]
    },
    {
      "metadata": {
        "id": "J8CGdr32wupj"
      },
      "cell_type": "markdown",
      "source": [
        "# <a id='0'><strong>Content</strong></a>\n",
        "\n",
        "#### 1. <a href='#1'><strong>Introduction</strong></a>  \n",
        "#### 2. <a href='#2'><strong>Prepare the Dat</strong>a</a>  \n",
        "#### 3. <a href='#3'><strong>Data exploration</strong></a>   \n",
        "#### 4. <a href='#4'><strong>Model</strong></a>\n",
        "#### 5. <a href='#5'><strong>Predict & Make submission</strong></a>"
      ]
    },
    {
      "metadata": {
        "id": "32SdrRggwupj"
      },
      "cell_type": "markdown",
      "source": [
        "# <a id='1'><strong>Introduction<strong></a>  "
      ]
    },
    {
      "metadata": {
        "id": "Mq8FXlOXwupj"
      },
      "cell_type": "markdown",
      "source": [
        "### **Car Model Classification**\n",
        "차 종(모델)의 분류는 일반적인 이미지 분류 예측 보다는 난이도가 있습니다. 예를 들어, 우리가 강아지와 사람을 분류 예측 해야 한다고 가정해봅시다. 사람의 이미지와 강아지의 이미지를 서로 비교해서 보면, 사람에게 드러나는 특징과 강아지에게 드러나는 특징은 비교적 차이가 존재합니다.\n",
        "\n",
        "하지만, 자동차라는 하나의 카테고리의 이미지들 가운데, 심지어는 브랜드마저 같은 차량이 존재하는 이미지들 사이에서 차량의 모델을 분류하는 작업은 강아지와 사람을 구분하는 것 처럼 간단히 할 수 있는 문제가 아닙니다.\n",
        "\n",
        "### **Competition**\n",
        "이번 컴페티션에서는, 주어진 자동차 이미지를 총 196개의 클래스로 분류 예측하는 것이 목표입니다.  \n",
        "sample_submission에 매핑된 테스트 이미지의 클래스를 예측하여 제출하시면 됩니다."
      ]
    },
    {
      "metadata": {
        "id": "fX_lss36wupk"
      },
      "cell_type": "markdown",
      "source": [
        "# <a id='2'><strong>Prepare the Data</strong></a>"
      ]
    },
    {
      "metadata": {
        "id": "HEU-VWKvwupk"
      },
      "cell_type": "markdown",
      "source": [
        "### **Load library**\n",
        "기본적인 라이브러리를 로드 합니다. 이번 베이스라인은 케라스 pretrained 모델 기반으로 실행됩니다."
      ]
    },
    {
      "metadata": {
        "trusted": true,
        "id": "ykAuLeYDwupk",
        "outputId": "e19a5e03-e559-4313-f0a2-363a09802598",
        "colab": {
          "base_uri": "https://localhost:8080/",
          "height": 35
        }
      },
      "cell_type": "code",
      "source": [
        "import gc\n",
        "import os\n",
        "import warnings\n",
        "import numpy as np\n",
        "import pandas as pd\n",
        "import seaborn as sns\n",
        "import matplotlib.pyplot as plt\n",
        "from tqdm import tqdm\n",
        "\n",
        "from keras import backend as K\n",
        "warnings.filterwarnings(action='ignore')\n",
        "\n",
        "\n",
        "#이미지의 ㅊ\n",
        "K.image_data_format()"
      ],
      "execution_count": null,
      "outputs": [
        {
          "output_type": "execute_result",
          "data": {
            "text/plain": [
              "'channels_last'"
            ],
            "application/vnd.google.colaboratory.intrinsic+json": {
              "type": "string"
            }
          },
          "metadata": {},
          "execution_count": 4
        }
      ]
    },
    {
      "metadata": {
        "id": "8oCIdzcPwupk"
      },
      "cell_type": "markdown",
      "source": [
        "### **File load**"
      ]
    },
    {
      "metadata": {
        "id": "MWbBvDJBwupk"
      },
      "cell_type": "markdown",
      "source": [
        "주어진 파일을 확인하고 로드합니다."
      ]
    },
    {
      "metadata": {
        "trusted": true,
        "id": "L-nusLA_wupk"
      },
      "cell_type": "code",
      "source": [
        "# 혹 다른 데이터 셋 추가(Pretrained Model Weights)로 인해 PATH가 변경된다면 아래 PATH를 수정\n",
        "DATA_PATH = '../input/'\n",
        "os.listdir(DATA_PATH)"
      ],
      "execution_count": null,
      "outputs": []
    },
    {
      "metadata": {
        "id": "XarzYZlawupl"
      },
      "cell_type": "markdown",
      "source": [
        "Data Description에 있는 파일 세부 정보입니다.\n",
        "* **train.csv** - Train 셋의 이미지 파일명, 바운딩박스 좌표, 차종정보\n",
        "* **test.csv** - Test 셋의 이미지 파일명, 바운딩박스 좌표, 차종정보\n",
        "* **submission.csv** - Test셋과 대응되는 제출 파일\n",
        "* **class.csv** - 데이터 셋의 class 컬럼과 대응되는 차종의 레이블\n",
        "* **train** - Train 이미지 파일\n",
        "* **test** - Test 이미지 파일"
      ]
    },
    {
      "metadata": {
        "trusted": true,
        "id": "Yx_5lJOkwupl"
      },
      "cell_type": "code",
      "source": [
        "# 이미지 폴더 경로\n",
        "TRAIN_IMG_PATH = os.path.join(DATA_PATH, 'train')\n",
        "TEST_IMG_PATH = os.path.join(DATA_PATH, 'test')\n",
        "\n",
        "# CSV 파일 경로\n",
        "df_train = pd.read_csv(os.path.join(DATA_PATH, 'train.csv'))\n",
        "df_test = pd.read_csv(os.path.join(DATA_PATH, 'test.csv'))\n",
        "df_class = pd.read_csv(os.path.join(DATA_PATH, 'class.csv'))"
      ],
      "execution_count": null,
      "outputs": []
    },
    {
      "metadata": {
        "id": "UPZp_FCdwupl"
      },
      "cell_type": "markdown",
      "source": [
        "# <a id='3'><strong>Data Exploration</strong></a>\n",
        "실제 데이터가 Description과 일치 하는지, 데이터는 어떻게 구성되어 있고 클래스 별로 어떤 분포를 가지고 있는지 등 데이터에 대한 전반적인 궁금증을 해결해보는 과정입니다."
      ]
    },
    {
      "metadata": {
        "id": "ABLvyN7_wupl"
      },
      "cell_type": "markdown",
      "source": [
        "### **Check Data**\n",
        "Data Description에 나와 있는 컬럼 별 세부 설명 입니다.\n",
        "* **img_file** - 데이터 셋의 각 로우와 연결되는 이미지 파일 이름\n",
        "* **bbox_x1** - 바운딩 박스 x1 좌표 (좌상단 x)\n",
        "* **bbox_y1** - 바운딩 박스 y1 좌표 (좌상단 y)\n",
        "* **bbox_x2** - 바운딩 박스 x2 좌표 (우하단 x)\n",
        "* **bbox_y2** - 바운딩 박스 y2 좌표 (우하단 y)\n",
        "* **class** - 예측하려는 차종(Target)\n",
        "* **id** - 각 데이터 셋에 기입 되어 있는 클래스 id\n",
        "* **name** - 클래스 id에 대응되는 실제 차종 레이블"
      ]
    },
    {
      "metadata": {
        "trusted": true,
        "id": "GFcJIIKTwupl"
      },
      "cell_type": "code",
      "source": [
        "df_train.head()"
      ],
      "execution_count": null,
      "outputs": []
    },
    {
      "metadata": {
        "trusted": true,
        "id": "M5IB-186wupl"
      },
      "cell_type": "code",
      "source": [
        "df_test.head()"
      ],
      "execution_count": null,
      "outputs": []
    },
    {
      "metadata": {
        "trusted": true,
        "id": "MueTUD7Vwupl"
      },
      "cell_type": "code",
      "source": [
        "# Data 누락 체크\n",
        "if set(list(df_train.img_file)) == set(os.listdir(TRAIN_IMG_PATH)) :\n",
        "    print(\"Train file 누락 없음!\")\n",
        "else :\n",
        "    print(\"Train file 누락\")\n",
        "\n",
        "if set(list(df_test.img_file)) == set(os.listdir(TEST_IMG_PATH)) :\n",
        "    print(\"Test file 누락 없음!\")\n",
        "else :\n",
        "    print(\"Test file 누락\")"
      ],
      "execution_count": null,
      "outputs": []
    },
    {
      "metadata": {
        "trusted": true,
        "id": "N7VcIZDiwupm"
      },
      "cell_type": "code",
      "source": [
        "# Data 갯수\n",
        "print(\"Number of Train Data : {}\".format(df_train.shape[0]))\n",
        "print(\"Number of Test Data : {}\".format(df_test.shape[0]))"
      ],
      "execution_count": null,
      "outputs": []
    },
    {
      "metadata": {
        "trusted": true,
        "id": "fzkDInHDwupm"
      },
      "cell_type": "code",
      "source": [
        "df_class.head()"
      ],
      "execution_count": null,
      "outputs": []
    },
    {
      "metadata": {
        "trusted": true,
        "id": "SxFO2Thnwupm"
      },
      "cell_type": "code",
      "source": [
        "print(\"타겟 클래스 총 갯수 : {}\".format(df_class.shape[0]))\n",
        "print(\"Train Data의 타겟 종류 갯수 : {}\".format(df_train['class'].nunique()))"
      ],
      "execution_count": null,
      "outputs": []
    },
    {
      "metadata": {
        "id": "4fm78LAbwupm"
      },
      "cell_type": "markdown",
      "source": [
        "### **Class Distribution**  \n",
        "분류 문제에서 가장 먼저 의심해봐야 할 부분이 바로 Target Class의 분포입니다. 학습에 사용해야 하는 Train Set의 타겟 분포를 확인해서 밸런스가 어느정도인지 체크해야 합니다."
      ]
    },
    {
      "metadata": {
        "trusted": true,
        "id": "-EY_Qndzwupm"
      },
      "cell_type": "code",
      "source": [
        "plt.figure(figsize=(12, 6))\n",
        "sns.countplot(df_train[\"class\"], order=df_train[\"class\"].value_counts(ascending=True).index)\n",
        "plt.title(\"Number of data per each class\")\n",
        "plt.show()"
      ],
      "execution_count": null,
      "outputs": []
    },
    {
      "metadata": {
        "id": "8iSAeka1wupm"
      },
      "cell_type": "markdown",
      "source": [
        "##### ** 06.16 class count print 수정 **"
      ]
    },
    {
      "metadata": {
        "trusted": true,
        "id": "UwXTg02Twupm"
      },
      "cell_type": "code",
      "source": [
        "cntEachClass = df_train[\"class\"].value_counts(ascending=False)\n",
        "print(\"Class with most count  : {}\".format(cntEachClass.index[0]))\n",
        "print(\"Most Count : {}\".format(cntEachClass.max()))\n",
        "\n",
        "print(\"Class with fewest count  : {}\".format(cntEachClass.index[-1]))\n",
        "print(\"Fewest Count : {}\".format(cntEachClass.min()))\n",
        "\n",
        "print(\"Mean  : {}\".format(cntEachClass.mean()))"
      ],
      "execution_count": null,
      "outputs": []
    },
    {
      "metadata": {
        "trusted": true,
        "id": "2JrUFLzlwupn"
      },
      "cell_type": "code",
      "source": [
        "cntEachClass.describe()"
      ],
      "execution_count": null,
      "outputs": []
    },
    {
      "metadata": {
        "id": "7FFBUx_lwupn"
      },
      "cell_type": "markdown",
      "source": [
        "대체적으로 카운트 수는 비슷합니다. 84번 클래스가 유독 카운트 숫자가 높고 평균은 51정도 입니다."
      ]
    },
    {
      "metadata": {
        "id": "v_xEYOKowupn"
      },
      "cell_type": "markdown",
      "source": [
        "### **Image Visualization**\n",
        "파이썬 커널에서 이미지를 보고 싶을땐 어떻게 할까요? 이미지를 로드하는 방법은 여러 방법이 있지만, 이 커널에서는 PIL 라이브러리를 사용합니다.  \n",
        "Documentation : https://pillow.readthedocs.io/en/stable/"
      ]
    },
    {
      "metadata": {
        "trusted": true,
        "id": "alcpVTW5wupn"
      },
      "cell_type": "code",
      "source": [
        "import PIL\n",
        "from PIL import ImageDraw\n",
        "\n",
        "tmp_imgs = df_train['img_file'][100:110]\n",
        "plt.figure(figsize=(12,20))\n",
        "\n",
        "for num, f_name in enumerate(tmp_imgs):\n",
        "    img = PIL.Image.open(os.path.join(TRAIN_IMG_PATH, f_name))\n",
        "    plt.subplot(5, 2, num + 1)\n",
        "    plt.title(f_name)\n",
        "    plt.imshow(img)\n",
        "    plt.axis('off')"
      ],
      "execution_count": null,
      "outputs": []
    },
    {
      "metadata": {
        "id": "nJfhrqP_wupn"
      },
      "cell_type": "markdown",
      "source": [
        "### **Bounding Box**\n",
        "이미지 대회를 처음 해보시는 분이라면, 이 바운딩 박스라는 것이 생소할 수 있습니다.\n",
        "\n",
        "바운딩 박스란?  \n",
        "이미지 내부에서 특정 Object를 박스로 레이블한 좌표를 말하며, 보통 좌측 상단 (x1, y1)과, 우측 하단 (x2, y2) 좌표가 주어져서   \n",
        "직사각형 모양의 박스를 그릴 수 있게됩니다. 이때, 좌표는 이미지의 픽셀 좌표입니다."
      ]
    },
    {
      "metadata": {
        "trusted": true,
        "id": "e_k7KdD0wupn"
      },
      "cell_type": "code",
      "source": [
        "def draw_rect(drawcontext, pos, outline=None, width=0):\n",
        "    (x1, y1) = (pos[0], pos[1])\n",
        "    (x2, y2) = (pos[2], pos[3])\n",
        "    points = (x1, y1), (x2, y1), (x2, y2), (x1, y2), (x1, y1)\n",
        "    drawcontext.line(points, fill=outline, width=width)\n",
        "\n",
        "def make_boxing_img(img_name) :\n",
        "    if img_name.split('_')[0] == \"train\" :\n",
        "        PATH = TRAIN_IMG_PATH\n",
        "        data = df_train\n",
        "    elif img_name.split('_')[0] == \"test\" :\n",
        "        PATH = TEST_IMG_PATH\n",
        "        data = df_test\n",
        "\n",
        "    img = PIL.Image.open(os.path.join(PATH, img_name))\n",
        "    pos = data.loc[data[\"img_file\"] == img_name, \\\n",
        "                   ['bbox_x1','bbox_y1', 'bbox_x2', 'bbox_y2']].values.reshape(-1)\n",
        "    draw = ImageDraw.Draw(img)\n",
        "    draw_rect(draw, pos, outline='red', width=10)\n",
        "\n",
        "    return img"
      ],
      "execution_count": null,
      "outputs": []
    },
    {
      "metadata": {
        "trusted": true,
        "id": "wTXssUr-wupn"
      },
      "cell_type": "code",
      "source": [
        "f_name = \"train_00102.jpg\"\n",
        "\n",
        "plt.figure(figsize=(20,10))\n",
        "plt.subplot(1, 2, 1)\n",
        "# Original Image\n",
        "origin_img = PIL.Image.open(os.path.join(TRAIN_IMG_PATH, f_name))\n",
        "plt.title(\"Original Image - {}\".format(f_name))\n",
        "plt.imshow(origin_img)\n",
        "plt.axis('off')\n",
        "\n",
        "# Image included bounding box\n",
        "plt.subplot(1, 2, 2)\n",
        "boxing = make_boxing_img(f_name)\n",
        "plt.title(\"Boxing Image - {}\".format(f_name))\n",
        "plt.imshow(boxing)\n",
        "plt.axis('off')\n",
        "\n",
        "plt.show()"
      ],
      "execution_count": null,
      "outputs": []
    },
    {
      "metadata": {
        "id": "SVGLFxhawupn"
      },
      "cell_type": "markdown",
      "source": [
        "왼쪽 그림과 같이 어떤 이미지에는 내가 필요로하는 Target Object 뿐만 아니라 상관 없는 다른 Object(Noise)가 섞여 있을 수 있습니다. 이런 경우에 이미지 내부에서 필요한 Object를 명확히 표시하기 위해 Bounding Box를 사용합니다.   \n",
        "(실제로 이미지를 모델에 넣을때는 Box 바깥 부분은 잘라서 사용합니다.)\n",
        "\n",
        "이번 컴페티션은 Bounding Box 좌표가 이미 주어져 있습니다. 만약 Bounding Box 좌표가 주어지지 않는다면 어떻게 해야 할까요? 이런 경우에는 직접 레이블을 하거나, Bounding Box를 좌표를 예측하는 딥러닝 모델을 설계해볼 수도 있습니다.\n",
        "\n",
        "이번 커널에서는 바운딩박스를 활용하지 않습니다. 하지만, 꼭 구현해보시길 권장합니다."
      ]
    },
    {
      "metadata": {
        "id": "IoA5UvN1wupn"
      },
      "cell_type": "markdown",
      "source": [
        "# <a id='4'><strong>Model</strong></a>\n",
        "이제 본격적으로 이미지 분류 모델을 만들어 봅시다.  \n",
        "이번 커널에서는 ResNet50 Pretrained Model을 불러와서 사용합니다."
      ]
    },
    {
      "metadata": {
        "id": "X-qw0ItQwupn"
      },
      "cell_type": "markdown",
      "source": [
        "### **Train set, valid set split**\n",
        "모델 학습을 하기 전에 주어진 Train 데이터 셋을 어떻게 활용할 지 생각해야 합니다."
      ]
    },
    {
      "metadata": {
        "id": "5ykip9bxwupn"
      },
      "cell_type": "markdown",
      "source": [
        "![train_val_test](https://t1.daumcdn.net/cfile/tistory/9951E5445AAE1BE025)"
      ]
    },
    {
      "metadata": {
        "id": "AmR93G8Cwupn"
      },
      "cell_type": "markdown",
      "source": [
        "일반적으로, 주어진 Train 데이터를 위와 같이 Train/validation으로 나누는 작업을 진행하는데요.   \n",
        "Training 데이터 수가 많으면 좋을텐데 왜 굳이 이렇게 나누는 걸까요?\n",
        "\n",
        "물론, Train 데이터를 모두 사용하면 데이터가 다양해지니 성능이 더 잘 나올 수 있습니다. 하지만, 학습한 후 모델이 잘 일반화 되었는지 확인해야 하는데, 여기서 검증(Validation) 데이터 셋이 필요합니다. 데이터 컴페티션의 경우 보통 평가를 위한 Test 데이터가 주어집니다. Training 데이터로 모델을 만들고 테스트 데이터로 확인 하면 되는 것이죠. 그런데 이번 컴페티션 같은 경우는 하루에 제출 횟수가 제한되어 있습니다. 그럼 하루에 5번 제출한 뒤로는 더이상 검증을 할 수 없게 되겠죠?\n",
        "\n",
        "그래서 만든 모델이 얼마나 괜찮은 모델인지 검증 데이터를 통해 제출해보지 않고(중요) 가늠해볼 수 있는 것입니다. 그래도 데이터가 너무 적어 검증데이터를 만들지 못할거 같나요? 그렇기 때문에, 사람들은 캐글에서는 높은 점수를 위해 대부분 Cross Validation set을 구성합니다.\n",
        "\n",
        "이 커널에서는 Cross Validation을 따로 만들지는 않습니다. 필요하다면 한번 구현해보시길 바랍니다.\n",
        "\n",
        "참고)  \n",
        "캐글 디스커션에서 CV, LB라는 용어가 자주 등장합니다. 눈치 빠른분은 아시겠지만 CV가 바로 Cross Validation 점수입니다. LB는 리더보드에 올라간 Public Score를 의미합니다. 디스커션에서 어떤 모델을 시도 했는데 CV와 LB가 어떻냐는 말은 Train set 만으로 검증된 점수와 실제 Test Score와 얼마나 차이가 나는지를 의미합니다. 모델이 과연 일반화가 잘 되어 있는지 확인하기 위해서죠."
      ]
    },
    {
      "metadata": {
        "id": "oFejb4Rjwupr"
      },
      "cell_type": "markdown",
      "source": [
        "### **Train_test_split**"
      ]
    },
    {
      "metadata": {
        "trusted": true,
        "id": "FwCxpNFvwupr"
      },
      "cell_type": "code",
      "source": [
        "from sklearn.model_selection import train_test_split\n",
        "\n",
        "df_train[\"class\"] = df_train[\"class\"].astype('str')\n",
        "\n",
        "df_train = df_train[['img_file', 'class']]\n",
        "df_test = df_test[['img_file']]\n",
        "\n",
        "its = np.arange(df_train.shape[0])\n",
        "train_idx, val_idx = train_test_split(its, train_size = 0.8, random_state=42)\n",
        "\n",
        "X_train = df_train.iloc[train_idx, :]\n",
        "X_val = df_train.iloc[val_idx, :]\n",
        "\n",
        "print(X_train.shape)\n",
        "print(X_val.shape)\n",
        "print(df_test.shape)"
      ],
      "execution_count": null,
      "outputs": []
    },
    {
      "metadata": {
        "id": "JnRaKe8Ywupr"
      },
      "cell_type": "markdown",
      "source": [
        "사이킷런의 train_test_split함수를 활용하여 Train 셋을 Train / validation 셋으로 나눴습니다.   \n",
        "혹시나 해서 말씀드리지만, train_test_split()이라고 해서 test라는 글자에 너무 많은 의미를 부여하지는 않아도 됩니다.  \n",
        "우리가 원하는 건 특정 array를 원하는 비율로 나누기만 하면 되니까요."
      ]
    },
    {
      "metadata": {
        "id": "WI0RNcS-wupr"
      },
      "cell_type": "markdown",
      "source": [
        "### **Generator**\n",
        "\n",
        "자, 제너레이터 입니다. 개인적으로 이미지 프로세싱에서 없어서는 안 될 필수 과정이라고 생각합니다. 정말 2번 3번 설명해도 부족함이 없습니다. 제너레이터가 왜 중요하고, 특히, 이번 컴페티션 혹은 딥러닝 파이프라인에서 어떤 효과가 있는지 잠깐 짚고 넘어가겠습니다.\n",
        "\n",
        "#### **Generator의 이점?**\n",
        "제너레이터는 코랩이나 캐글 커널같은 클라우드 환경 또는 일반적인 로컬 환경에서 정말 유용하게 쓰일 수 있습니다. 그 이유는 보통 이러한 환경은 메모리가 충분하지 않기 때문이죠. 특히나 이미지 처럼 파일하나의 용량이 매우 큰 경우, 한번에 모든 파일을 메모리에 적재하게 되면 상당히 큰 부담이 됩니다. 배치사이즈 단위 만큼 파일을 불러와 학습하고 끝나면 다시 불러와서 학습하는 방법을 반복하기 때문에 전체 학습을 하더라도 메모리를 조금만 사용하게 되는 것입니다."
      ]
    },
    {
      "metadata": {
        "id": "opD3eTCYwupr"
      },
      "cell_type": "markdown",
      "source": [
        "### **Keras DataGenerator**\n",
        "지금껏 불편하게 제너레이터를 만들어 사용했다면 케라스에는 정말 편한 제너레이터 함수가 있습니다. 케라스 ImageDataGenerator는 제너레이터의 기능은 물론 제너레이터를 정의하면서 동시에 Data에 원하는 Noise까지 부여할 수 있습니다. 또한 Documentaion을 참고하시면 생각보다 많은 기능이 있으니 이번 기회에 한번 사용해 보시는 것도 좋을 것 같네요.\n",
        "\n",
        "Documentaion : https://keras.io/preprocessing/image/\n",
        "\n",
        "추가) 이번 커널에서는 케라스 내부의 DataGenerator를 사용합니다. 하지만, 주어진 데이터가 이미지가 아닌 경우에는 제너레이터를 직접 설계해야 하는 경우도 있습니다. 그러니 케라스 제너레이터에 너무 익숙해지는 것 보다는 직접 제너레이터를 설계해보는 것도 강력히 추천합니다!"
      ]
    },
    {
      "metadata": {
        "trusted": true,
        "id": "m85m7lGUwupr"
      },
      "cell_type": "code",
      "source": [
        "from keras.applications.resnet50 import ResNet50, preprocess_input\n",
        "from keras.preprocessing.image import ImageDataGenerator\n",
        "\n",
        "# Parameter\n",
        "img_size = (224, 224)\n",
        "nb_train_samples = len(X_train)\n",
        "nb_validation_samples = len(X_val)\n",
        "nb_test_samples = len(df_test)\n",
        "epochs = 20\n",
        "batch_size = 32\n",
        "\n",
        "# Define Generator config\n",
        "train_datagen = ImageDataGenerator(\n",
        "    horizontal_flip = True,\n",
        "    vertical_flip = False,\n",
        "    zoom_range=0.10,\n",
        "    preprocessing_function=preprocess_input)\n",
        "\n",
        "val_datagen = ImageDataGenerator(preprocessing_function=preprocess_input)\n",
        "test_datagen = ImageDataGenerator(preprocessing_function=preprocess_input)\n",
        "\n",
        "# Make Generator\n",
        "train_generator = train_datagen.flow_from_dataframe(\n",
        "    dataframe=X_train,\n",
        "    directory='../input/train/',\n",
        "    x_col = 'img_file',\n",
        "    y_col = 'class',\n",
        "    target_size = img_size,\n",
        "    color_mode='rgb',\n",
        "    class_mode='categorical',\n",
        "    batch_size=batch_size,\n",
        "    seed=42\n",
        ")\n",
        "\n",
        "validation_generator = val_datagen.flow_from_dataframe(\n",
        "    dataframe=X_val,\n",
        "    directory='../input/train',\n",
        "    x_col = 'img_file',\n",
        "    y_col = 'class',\n",
        "    target_size = img_size,\n",
        "    color_mode='rgb',\n",
        "    class_mode='categorical',\n",
        "    batch_size=batch_size,\n",
        "    shuffle=False\n",
        ")\n",
        "\n",
        "test_generator = test_datagen.flow_from_dataframe(\n",
        "    dataframe=df_test,\n",
        "    directory='../input/test',\n",
        "    x_col='img_file',\n",
        "    y_col=None,\n",
        "    target_size= img_size,\n",
        "    color_mode='rgb',\n",
        "    class_mode=None,\n",
        "    batch_size=batch_size,\n",
        "    shuffle=False\n",
        ")"
      ],
      "execution_count": null,
      "outputs": []
    },
    {
      "metadata": {
        "id": "yNGHwvfNwups"
      },
      "cell_type": "markdown",
      "source": [
        "### **Loading Pretrained Model - ResNet50**\n",
        "\n",
        "![resnet](https://cdn-images-1.medium.com/max/987/1*pUyst_ciesOz_LUg0HocYg.png)\n",
        "\n",
        "\n",
        "그 유명한 ResNet입니다. Residual(잔차)를 이용한 획기적인 모델로 평가됩니다. 보통 딥러닝 모델을 구성할 때 직접 만들어 보는것도 좋지만, 이 작업은 상당히 많은 시간과 노력이 필요하기 때문에, 이미 성능이 입증된 모델을 불러와서 사용해보는 것도 좋은 방법이죠.\n",
        "\n",
        "Pretrained Model을 불러오기 위해서는 커널의 Internet 옵션이 활성화 되어 있어야 합니다.  \n",
        "\n",
        "ResNet arxiv : http://www.arxiv.org/abs/1512.03385"
      ]
    },
    {
      "metadata": {
        "trusted": true,
        "id": "YtYCs3lLwups"
      },
      "cell_type": "code",
      "source": [
        "resNet_model = ResNet50(include_top=False, input_shape = (224,224,3))\n",
        "# resNet_model.summary()"
      ],
      "execution_count": null,
      "outputs": []
    },
    {
      "metadata": {
        "trusted": true,
        "id": "yLp_2L2Twups"
      },
      "cell_type": "code",
      "source": [
        "from keras.models import Sequential, Model\n",
        "from keras.layers import Dense, Dropout, Flatten, Activation, Conv2D, GlobalAveragePooling2D\n",
        "\n",
        "# for layer in resNet_model.layers:\n",
        "#     layer.trainable = False\n",
        "#     print(layer,layer.trainable)\n",
        "\n",
        "model = Sequential()\n",
        "model.add(resNet_model)\n",
        "model.add(GlobalAveragePooling2D())\n",
        "model.add(Dense(196, activation='softmax', kernel_initializer='he_normal'))\n",
        "model.summary()"
      ],
      "execution_count": null,
      "outputs": []
    },
    {
      "metadata": {
        "id": "GWR7ibV0wups"
      },
      "cell_type": "markdown",
      "source": [
        "Pretrained Model을 사용할 때 한가지 주의할 점이 있습니다. Pretrained 모델은 경우에 따라 다양하게 사용될 수 있기 때문에 Model output부분을 잘라버린 채 로드 되는 경우가 있습니다.(include_top=False) 이 경우에는 직접 output을 만들어야 되겠죠? 우리는 196개의 class를 분류하기 때문에 위와 같이 만들었습니다.\n",
        "\n",
        "참고)  \n",
        "케라스에는 모델을 생성하는 방법이 2가지가 있습니다. 하나는 위처럼 Sequential을 사용하는 것이고 하나는 Model을 사용하는 방법입니다. 2가지 모두 많이 사용하니 Model도 한번 사용해보세요."
      ]
    },
    {
      "metadata": {
        "id": "sEQfc2zVwups"
      },
      "cell_type": "markdown",
      "source": [
        "### **Model Compile**\n",
        "이제 Model을 만들었으니 어떻게 학습할 지 정해야 합니다. 어떤 방법으로, 어떤 속도로, 어떤 지표를 기준으로 등등 정할 수 있고 필요시에는 각각의 함수를 직접 구현해볼 수도 있습니다. 하지만, 보통은 기본으로 주어지는 것들을 사용합니다."
      ]
    },
    {
      "metadata": {
        "trusted": true,
        "id": "IpHi8ttSwups"
      },
      "cell_type": "code",
      "source": [
        "from sklearn.metrics import f1_score\n",
        "\n",
        "def micro_f1(y_true, y_pred):\n",
        "    return f1_score(y_true, y_pred, average='micro')\n",
        "\n",
        "model.compile(optimizer='adam', loss='categorical_crossentropy', metrics=['acc'])"
      ],
      "execution_count": null,
      "outputs": []
    },
    {
      "metadata": {
        "id": "-XlxzdVMwups"
      },
      "cell_type": "markdown",
      "source": [
        "### **Model Training**\n",
        "이제 진짜로 학습을 해봅시다. 학습에는 시간이 조금 걸리니 커피라도 한 잔 하시는게 어떨까요?"
      ]
    },
    {
      "metadata": {
        "trusted": true,
        "id": "F9U5V1rgwups"
      },
      "cell_type": "code",
      "source": [
        "def get_steps(num_samples, batch_size):\n",
        "    if (num_samples % batch_size) > 0 :\n",
        "        return (num_samples // batch_size) + 1\n",
        "    else :\n",
        "        return num_samples // batch_size"
      ],
      "execution_count": null,
      "outputs": []
    },
    {
      "metadata": {
        "trusted": true,
        "id": "7cy-PpwZwups"
      },
      "cell_type": "code",
      "source": [
        "%%time\n",
        "from keras.callbacks import ModelCheckpoint, EarlyStopping\n",
        "\n",
        "filepath = \"my_resnet_model_{val_acc:.2f}_{val_loss:.4f}.h5\"\n",
        "\n",
        "# ckpt = ModelCheckpoint(filepath, monitor='val_acc', verbose=1, save_best_only=True)\n",
        "es = EarlyStopping(monitor='val_acc', min_delta=0, patience=3, verbose=1, mode='auto')\n",
        "\n",
        "callbackList = [es]\n",
        "\n",
        "history = model.fit_generator(\n",
        "    train_generator,\n",
        "    steps_per_epoch = get_steps(nb_train_samples, batch_size),\n",
        "    epochs=epochs,\n",
        "    validation_data = validation_generator,\n",
        "    validation_steps = get_steps(nb_validation_samples, batch_size),\n",
        "    callbacks = callbackList\n",
        ")\n",
        "gc.collect()"
      ],
      "execution_count": null,
      "outputs": []
    },
    {
      "metadata": {
        "id": "5moKcj8Cwups"
      },
      "cell_type": "markdown",
      "source": [
        "### **Training History Visualization**\n",
        "학습된 결과를 plot으로 그려볼 수 있습니다. 모델 학습 로그를 통해서 확인할 수도 있지만, 전반적인 학습 형태를 한눈에 파악하기에는 그래프만 한 것이 없습니다."
      ]
    },
    {
      "metadata": {
        "trusted": true,
        "id": "LsJgyWapwupt"
      },
      "cell_type": "code",
      "source": [
        "# Plot training & validation accuracy values\n",
        "plt.plot(history.history['acc'])\n",
        "plt.plot(history.history['val_acc'])\n",
        "plt.title('Model accuracy')\n",
        "plt.ylabel('Accuracy')\n",
        "plt.xlabel('Epoch')\n",
        "plt.legend(['Train', 'Test'], loc='upper left')\n",
        "plt.show()"
      ],
      "execution_count": null,
      "outputs": []
    },
    {
      "metadata": {
        "trusted": true,
        "id": "8S2pQCV-wupt"
      },
      "cell_type": "code",
      "source": [
        "# Plot training & validation loss values\n",
        "plt.plot(history.history['loss'])\n",
        "plt.plot(history.history['val_loss'])\n",
        "plt.title('Model loss')\n",
        "plt.ylabel('Loss')\n",
        "plt.xlabel('Epoch')\n",
        "plt.legend(['Train', 'Test'], loc='upper left')\n",
        "plt.show()"
      ],
      "execution_count": null,
      "outputs": []
    },
    {
      "metadata": {
        "id": "jCen6Lxwwupt"
      },
      "cell_type": "markdown",
      "source": [
        "# <a id='5'><strong>Predict & Make submission</strong></a>  \n",
        "겨우 모델 학습이 끝났군요! 하지만, 아직 끝나지 않았습니다. 모델이 테스트 데이터에도 잘 적용되는지 predict를 해보고 제출물을 만들어야 합니다."
      ]
    },
    {
      "metadata": {
        "id": "MxoUH0bZwupt"
      },
      "cell_type": "markdown",
      "source": [
        "### **Model Predict**"
      ]
    },
    {
      "metadata": {
        "trusted": true,
        "id": "DPbWGpKLwupt"
      },
      "cell_type": "code",
      "source": [
        "%%time\n",
        "test_generator.reset()\n",
        "prediction = model.predict_generator(\n",
        "    generator = test_generator,\n",
        "    steps = get_steps(nb_test_samples, batch_size),\n",
        "    verbose=1\n",
        ")"
      ],
      "execution_count": null,
      "outputs": []
    },
    {
      "metadata": {
        "id": "eza46c8Fwupt"
      },
      "cell_type": "markdown",
      "source": [
        "Predict 또한 제너레이터를 사용합니다. 제너레이터는 메모리가 부족한 우리들에게 꼭 필요한 기능입니다!"
      ]
    },
    {
      "metadata": {
        "id": "YhET6iwcwupt"
      },
      "cell_type": "markdown",
      "source": [
        "### **Make submission**"
      ]
    },
    {
      "metadata": {
        "id": "T-DlpB-3wupt"
      },
      "cell_type": "markdown",
      "source": [
        "Inference가 끝난 결과를 이제 sample_submission 파일에 매핑해야 합니다. sample_submission 파일을 불러온 후 예측한 결과를 매핑합니다.\n",
        "\n",
        "중요)  \n",
        "케라스 제너레이터를 사용하는 경우에는 타겟(클래스)의 카테고리컬 매핑이 제너레이터 임의로 결정됩니다. 따라서 제너레이터가 가지고 있는 class index 딕셔너리를 불러와 새롭게 매핑해주어야 합니다."
      ]
    },
    {
      "metadata": {
        "trusted": true,
        "id": "cGgA7ho8wupt"
      },
      "cell_type": "code",
      "source": [
        "predicted_class_indices=np.argmax(prediction, axis=1)\n",
        "\n",
        "# Generator class dictionary mapping\n",
        "labels = (train_generator.class_indices)\n",
        "labels = dict((v,k) for k,v in labels.items())\n",
        "predictions = [labels[k] for k in predicted_class_indices]\n",
        "\n",
        "submission = pd.read_csv(os.path.join(DATA_PATH, 'sample_submission.csv'))\n",
        "submission[\"class\"] = predictions\n",
        "submission.to_csv(\"submission.csv\", index=False)\n",
        "submission.head()"
      ],
      "execution_count": null,
      "outputs": []
    },
    {
      "metadata": {
        "id": "MMn63eWFwupt"
      },
      "cell_type": "markdown",
      "source": [
        "드디어 완료 되었습니다. 하지만, 여기서 끝이 아니죠!   \n",
        "첫 제출을 성공하셨다면 이제는 모델 성능을 어떻게하면 더 올릴 수 있을지 연구할 때입니다.   \n",
        "끝나는 시간까지 계속 킵고잉해서 좋은 성능을 낼 때까지 달립시다. 모두 화이팅!"
      ]
    },
    {
      "metadata": {
        "id": "qJq2HDYZwupu"
      },
      "cell_type": "markdown",
      "source": [
        "#### **Reference:**\n",
        "https://medium.com/@vijayabhaskar96/tutorial-on-keras-flow-from-dataframe-1fd4493d237c  \n",
        "https://keras.io/  \n",
        "http://www.arxiv.org/abs/1512.03385  \n",
        "https://pillow.readthedocs.io/en/stable/  \n",
        "https://www.kaggle.com/guglielmocamporese/macro-f1-score-keras"
      ]
    }
  ],
  "metadata": {
    "kernelspec": {
      "display_name": "Python 3",
      "language": "python",
      "name": "python3"
    },
    "language_info": {
      "name": "python",
      "version": "3.6.4",
      "mimetype": "text/x-python",
      "codemirror_mode": {
        "name": "ipython",
        "version": 3
      },
      "pygments_lexer": "ipython3",
      "nbconvert_exporter": "python",
      "file_extension": ".py"
    },
    "colab": {
      "provenance": [],
      "include_colab_link": true
    },
    "widgets": {
      "application/vnd.jupyter.widget-state+json": {
        "25096cd6eee94da98e9047ddf9eb6d26": {
          "model_module": "@jupyter-widgets/controls",
          "model_name": "VBoxModel",
          "model_module_version": "1.5.0",
          "state": {
            "_dom_classes": [],
            "_model_module": "@jupyter-widgets/controls",
            "_model_module_version": "1.5.0",
            "_model_name": "VBoxModel",
            "_view_count": null,
            "_view_module": "@jupyter-widgets/controls",
            "_view_module_version": "1.5.0",
            "_view_name": "VBoxView",
            "box_style": "",
            "children": [
              "IPY_MODEL_11c46aa05cbb45cfa836aa8edd02f9b4"
            ],
            "layout": "IPY_MODEL_034b61fc9b334239bb7cc32c58314293"
          }
        },
        "7f1d264f0c514a8e8f5ac546058d446e": {
          "model_module": "@jupyter-widgets/controls",
          "model_name": "HTMLModel",
          "model_module_version": "1.5.0",
          "state": {
            "_dom_classes": [],
            "_model_module": "@jupyter-widgets/controls",
            "_model_module_version": "1.5.0",
            "_model_name": "HTMLModel",
            "_view_count": null,
            "_view_module": "@jupyter-widgets/controls",
            "_view_module_version": "1.5.0",
            "_view_name": "HTMLView",
            "description": "",
            "description_tooltip": null,
            "layout": "IPY_MODEL_76ccf3a6792347b6b39d8d6da40e5186",
            "placeholder": "​",
            "style": "IPY_MODEL_49d83645ca7e4a7ab0bfa0da453d0a02",
            "value": "<center> <img\nsrc=https://www.kaggle.com/static/images/site-logo.png\nalt='Kaggle'> <br> Create an API token from <a\nhref=\"https://www.kaggle.com/settings/account\" target=\"_blank\">your Kaggle\nsettings page</a> and paste it below along with your Kaggle username. <br> </center>"
          }
        },
        "1045f02715a34474ae30de57fbb80444": {
          "model_module": "@jupyter-widgets/controls",
          "model_name": "TextModel",
          "model_module_version": "1.5.0",
          "state": {
            "_dom_classes": [],
            "_model_module": "@jupyter-widgets/controls",
            "_model_module_version": "1.5.0",
            "_model_name": "TextModel",
            "_view_count": null,
            "_view_module": "@jupyter-widgets/controls",
            "_view_module_version": "1.5.0",
            "_view_name": "TextView",
            "continuous_update": true,
            "description": "Username:",
            "description_tooltip": null,
            "disabled": false,
            "layout": "IPY_MODEL_f54d8a09d0994cb28614dd79aaf53194",
            "placeholder": "​",
            "style": "IPY_MODEL_0ef7be60d01f477fa827188ea08ac9d8",
            "value": "afinar"
          }
        },
        "fca04562501f4b4d95e28051c80539a9": {
          "model_module": "@jupyter-widgets/controls",
          "model_name": "PasswordModel",
          "model_module_version": "1.5.0",
          "state": {
            "_dom_classes": [],
            "_model_module": "@jupyter-widgets/controls",
            "_model_module_version": "1.5.0",
            "_model_name": "PasswordModel",
            "_view_count": null,
            "_view_module": "@jupyter-widgets/controls",
            "_view_module_version": "1.5.0",
            "_view_name": "PasswordView",
            "continuous_update": true,
            "description": "Token:",
            "description_tooltip": null,
            "disabled": false,
            "layout": "IPY_MODEL_c7b27bcea23043cb808e12fd47b453f0",
            "placeholder": "​",
            "style": "IPY_MODEL_c1677ed3ea974227acef427ad7c4d30c",
            "value": ""
          }
        },
        "9fc9f1d356fa47b9a61fd697508417ea": {
          "model_module": "@jupyter-widgets/controls",
          "model_name": "ButtonModel",
          "model_module_version": "1.5.0",
          "state": {
            "_dom_classes": [],
            "_model_module": "@jupyter-widgets/controls",
            "_model_module_version": "1.5.0",
            "_model_name": "ButtonModel",
            "_view_count": null,
            "_view_module": "@jupyter-widgets/controls",
            "_view_module_version": "1.5.0",
            "_view_name": "ButtonView",
            "button_style": "",
            "description": "Login",
            "disabled": false,
            "icon": "",
            "layout": "IPY_MODEL_2ab22b044ff043cca292d0a7808f8fca",
            "style": "IPY_MODEL_d13eb97b6d2a4ce8bbee1f591700b5a5",
            "tooltip": ""
          }
        },
        "8c64578657ba4d528bdfd73418e493c7": {
          "model_module": "@jupyter-widgets/controls",
          "model_name": "HTMLModel",
          "model_module_version": "1.5.0",
          "state": {
            "_dom_classes": [],
            "_model_module": "@jupyter-widgets/controls",
            "_model_module_version": "1.5.0",
            "_model_name": "HTMLModel",
            "_view_count": null,
            "_view_module": "@jupyter-widgets/controls",
            "_view_module_version": "1.5.0",
            "_view_name": "HTMLView",
            "description": "",
            "description_tooltip": null,
            "layout": "IPY_MODEL_7e4fb830dfd64ed0b462c30641ed720f",
            "placeholder": "​",
            "style": "IPY_MODEL_0fc0df5c56fb44809bdb0ade9052936b",
            "value": "\n<b>Thank You</b></center>"
          }
        },
        "034b61fc9b334239bb7cc32c58314293": {
          "model_module": "@jupyter-widgets/base",
          "model_name": "LayoutModel",
          "model_module_version": "1.2.0",
          "state": {
            "_model_module": "@jupyter-widgets/base",
            "_model_module_version": "1.2.0",
            "_model_name": "LayoutModel",
            "_view_count": null,
            "_view_module": "@jupyter-widgets/base",
            "_view_module_version": "1.2.0",
            "_view_name": "LayoutView",
            "align_content": null,
            "align_items": "center",
            "align_self": null,
            "border": null,
            "bottom": null,
            "display": "flex",
            "flex": null,
            "flex_flow": "column",
            "grid_area": null,
            "grid_auto_columns": null,
            "grid_auto_flow": null,
            "grid_auto_rows": null,
            "grid_column": null,
            "grid_gap": null,
            "grid_row": null,
            "grid_template_areas": null,
            "grid_template_columns": null,
            "grid_template_rows": null,
            "height": null,
            "justify_content": null,
            "justify_items": null,
            "left": null,
            "margin": null,
            "max_height": null,
            "max_width": null,
            "min_height": null,
            "min_width": null,
            "object_fit": null,
            "object_position": null,
            "order": null,
            "overflow": null,
            "overflow_x": null,
            "overflow_y": null,
            "padding": null,
            "right": null,
            "top": null,
            "visibility": null,
            "width": "50%"
          }
        },
        "76ccf3a6792347b6b39d8d6da40e5186": {
          "model_module": "@jupyter-widgets/base",
          "model_name": "LayoutModel",
          "model_module_version": "1.2.0",
          "state": {
            "_model_module": "@jupyter-widgets/base",
            "_model_module_version": "1.2.0",
            "_model_name": "LayoutModel",
            "_view_count": null,
            "_view_module": "@jupyter-widgets/base",
            "_view_module_version": "1.2.0",
            "_view_name": "LayoutView",
            "align_content": null,
            "align_items": null,
            "align_self": null,
            "border": null,
            "bottom": null,
            "display": null,
            "flex": null,
            "flex_flow": null,
            "grid_area": null,
            "grid_auto_columns": null,
            "grid_auto_flow": null,
            "grid_auto_rows": null,
            "grid_column": null,
            "grid_gap": null,
            "grid_row": null,
            "grid_template_areas": null,
            "grid_template_columns": null,
            "grid_template_rows": null,
            "height": null,
            "justify_content": null,
            "justify_items": null,
            "left": null,
            "margin": null,
            "max_height": null,
            "max_width": null,
            "min_height": null,
            "min_width": null,
            "object_fit": null,
            "object_position": null,
            "order": null,
            "overflow": null,
            "overflow_x": null,
            "overflow_y": null,
            "padding": null,
            "right": null,
            "top": null,
            "visibility": null,
            "width": null
          }
        },
        "49d83645ca7e4a7ab0bfa0da453d0a02": {
          "model_module": "@jupyter-widgets/controls",
          "model_name": "DescriptionStyleModel",
          "model_module_version": "1.5.0",
          "state": {
            "_model_module": "@jupyter-widgets/controls",
            "_model_module_version": "1.5.0",
            "_model_name": "DescriptionStyleModel",
            "_view_count": null,
            "_view_module": "@jupyter-widgets/base",
            "_view_module_version": "1.2.0",
            "_view_name": "StyleView",
            "description_width": ""
          }
        },
        "f54d8a09d0994cb28614dd79aaf53194": {
          "model_module": "@jupyter-widgets/base",
          "model_name": "LayoutModel",
          "model_module_version": "1.2.0",
          "state": {
            "_model_module": "@jupyter-widgets/base",
            "_model_module_version": "1.2.0",
            "_model_name": "LayoutModel",
            "_view_count": null,
            "_view_module": "@jupyter-widgets/base",
            "_view_module_version": "1.2.0",
            "_view_name": "LayoutView",
            "align_content": null,
            "align_items": null,
            "align_self": null,
            "border": null,
            "bottom": null,
            "display": null,
            "flex": null,
            "flex_flow": null,
            "grid_area": null,
            "grid_auto_columns": null,
            "grid_auto_flow": null,
            "grid_auto_rows": null,
            "grid_column": null,
            "grid_gap": null,
            "grid_row": null,
            "grid_template_areas": null,
            "grid_template_columns": null,
            "grid_template_rows": null,
            "height": null,
            "justify_content": null,
            "justify_items": null,
            "left": null,
            "margin": null,
            "max_height": null,
            "max_width": null,
            "min_height": null,
            "min_width": null,
            "object_fit": null,
            "object_position": null,
            "order": null,
            "overflow": null,
            "overflow_x": null,
            "overflow_y": null,
            "padding": null,
            "right": null,
            "top": null,
            "visibility": null,
            "width": null
          }
        },
        "0ef7be60d01f477fa827188ea08ac9d8": {
          "model_module": "@jupyter-widgets/controls",
          "model_name": "DescriptionStyleModel",
          "model_module_version": "1.5.0",
          "state": {
            "_model_module": "@jupyter-widgets/controls",
            "_model_module_version": "1.5.0",
            "_model_name": "DescriptionStyleModel",
            "_view_count": null,
            "_view_module": "@jupyter-widgets/base",
            "_view_module_version": "1.2.0",
            "_view_name": "StyleView",
            "description_width": ""
          }
        },
        "c7b27bcea23043cb808e12fd47b453f0": {
          "model_module": "@jupyter-widgets/base",
          "model_name": "LayoutModel",
          "model_module_version": "1.2.0",
          "state": {
            "_model_module": "@jupyter-widgets/base",
            "_model_module_version": "1.2.0",
            "_model_name": "LayoutModel",
            "_view_count": null,
            "_view_module": "@jupyter-widgets/base",
            "_view_module_version": "1.2.0",
            "_view_name": "LayoutView",
            "align_content": null,
            "align_items": null,
            "align_self": null,
            "border": null,
            "bottom": null,
            "display": null,
            "flex": null,
            "flex_flow": null,
            "grid_area": null,
            "grid_auto_columns": null,
            "grid_auto_flow": null,
            "grid_auto_rows": null,
            "grid_column": null,
            "grid_gap": null,
            "grid_row": null,
            "grid_template_areas": null,
            "grid_template_columns": null,
            "grid_template_rows": null,
            "height": null,
            "justify_content": null,
            "justify_items": null,
            "left": null,
            "margin": null,
            "max_height": null,
            "max_width": null,
            "min_height": null,
            "min_width": null,
            "object_fit": null,
            "object_position": null,
            "order": null,
            "overflow": null,
            "overflow_x": null,
            "overflow_y": null,
            "padding": null,
            "right": null,
            "top": null,
            "visibility": null,
            "width": null
          }
        },
        "c1677ed3ea974227acef427ad7c4d30c": {
          "model_module": "@jupyter-widgets/controls",
          "model_name": "DescriptionStyleModel",
          "model_module_version": "1.5.0",
          "state": {
            "_model_module": "@jupyter-widgets/controls",
            "_model_module_version": "1.5.0",
            "_model_name": "DescriptionStyleModel",
            "_view_count": null,
            "_view_module": "@jupyter-widgets/base",
            "_view_module_version": "1.2.0",
            "_view_name": "StyleView",
            "description_width": ""
          }
        },
        "2ab22b044ff043cca292d0a7808f8fca": {
          "model_module": "@jupyter-widgets/base",
          "model_name": "LayoutModel",
          "model_module_version": "1.2.0",
          "state": {
            "_model_module": "@jupyter-widgets/base",
            "_model_module_version": "1.2.0",
            "_model_name": "LayoutModel",
            "_view_count": null,
            "_view_module": "@jupyter-widgets/base",
            "_view_module_version": "1.2.0",
            "_view_name": "LayoutView",
            "align_content": null,
            "align_items": null,
            "align_self": null,
            "border": null,
            "bottom": null,
            "display": null,
            "flex": null,
            "flex_flow": null,
            "grid_area": null,
            "grid_auto_columns": null,
            "grid_auto_flow": null,
            "grid_auto_rows": null,
            "grid_column": null,
            "grid_gap": null,
            "grid_row": null,
            "grid_template_areas": null,
            "grid_template_columns": null,
            "grid_template_rows": null,
            "height": null,
            "justify_content": null,
            "justify_items": null,
            "left": null,
            "margin": null,
            "max_height": null,
            "max_width": null,
            "min_height": null,
            "min_width": null,
            "object_fit": null,
            "object_position": null,
            "order": null,
            "overflow": null,
            "overflow_x": null,
            "overflow_y": null,
            "padding": null,
            "right": null,
            "top": null,
            "visibility": null,
            "width": null
          }
        },
        "d13eb97b6d2a4ce8bbee1f591700b5a5": {
          "model_module": "@jupyter-widgets/controls",
          "model_name": "ButtonStyleModel",
          "model_module_version": "1.5.0",
          "state": {
            "_model_module": "@jupyter-widgets/controls",
            "_model_module_version": "1.5.0",
            "_model_name": "ButtonStyleModel",
            "_view_count": null,
            "_view_module": "@jupyter-widgets/base",
            "_view_module_version": "1.2.0",
            "_view_name": "StyleView",
            "button_color": null,
            "font_weight": ""
          }
        },
        "7e4fb830dfd64ed0b462c30641ed720f": {
          "model_module": "@jupyter-widgets/base",
          "model_name": "LayoutModel",
          "model_module_version": "1.2.0",
          "state": {
            "_model_module": "@jupyter-widgets/base",
            "_model_module_version": "1.2.0",
            "_model_name": "LayoutModel",
            "_view_count": null,
            "_view_module": "@jupyter-widgets/base",
            "_view_module_version": "1.2.0",
            "_view_name": "LayoutView",
            "align_content": null,
            "align_items": null,
            "align_self": null,
            "border": null,
            "bottom": null,
            "display": null,
            "flex": null,
            "flex_flow": null,
            "grid_area": null,
            "grid_auto_columns": null,
            "grid_auto_flow": null,
            "grid_auto_rows": null,
            "grid_column": null,
            "grid_gap": null,
            "grid_row": null,
            "grid_template_areas": null,
            "grid_template_columns": null,
            "grid_template_rows": null,
            "height": null,
            "justify_content": null,
            "justify_items": null,
            "left": null,
            "margin": null,
            "max_height": null,
            "max_width": null,
            "min_height": null,
            "min_width": null,
            "object_fit": null,
            "object_position": null,
            "order": null,
            "overflow": null,
            "overflow_x": null,
            "overflow_y": null,
            "padding": null,
            "right": null,
            "top": null,
            "visibility": null,
            "width": null
          }
        },
        "0fc0df5c56fb44809bdb0ade9052936b": {
          "model_module": "@jupyter-widgets/controls",
          "model_name": "DescriptionStyleModel",
          "model_module_version": "1.5.0",
          "state": {
            "_model_module": "@jupyter-widgets/controls",
            "_model_module_version": "1.5.0",
            "_model_name": "DescriptionStyleModel",
            "_view_count": null,
            "_view_module": "@jupyter-widgets/base",
            "_view_module_version": "1.2.0",
            "_view_name": "StyleView",
            "description_width": ""
          }
        },
        "c1c6b11c0f7641f2821447b4f2388f12": {
          "model_module": "@jupyter-widgets/controls",
          "model_name": "LabelModel",
          "model_module_version": "1.5.0",
          "state": {
            "_dom_classes": [],
            "_model_module": "@jupyter-widgets/controls",
            "_model_module_version": "1.5.0",
            "_model_name": "LabelModel",
            "_view_count": null,
            "_view_module": "@jupyter-widgets/controls",
            "_view_module_version": "1.5.0",
            "_view_name": "LabelView",
            "description": "",
            "description_tooltip": null,
            "layout": "IPY_MODEL_75ec933edcd94bf386775350e03676f4",
            "placeholder": "​",
            "style": "IPY_MODEL_e19741a0fedf40abbc7d7368a10bf640",
            "value": "Connecting..."
          }
        },
        "75ec933edcd94bf386775350e03676f4": {
          "model_module": "@jupyter-widgets/base",
          "model_name": "LayoutModel",
          "model_module_version": "1.2.0",
          "state": {
            "_model_module": "@jupyter-widgets/base",
            "_model_module_version": "1.2.0",
            "_model_name": "LayoutModel",
            "_view_count": null,
            "_view_module": "@jupyter-widgets/base",
            "_view_module_version": "1.2.0",
            "_view_name": "LayoutView",
            "align_content": null,
            "align_items": null,
            "align_self": null,
            "border": null,
            "bottom": null,
            "display": null,
            "flex": null,
            "flex_flow": null,
            "grid_area": null,
            "grid_auto_columns": null,
            "grid_auto_flow": null,
            "grid_auto_rows": null,
            "grid_column": null,
            "grid_gap": null,
            "grid_row": null,
            "grid_template_areas": null,
            "grid_template_columns": null,
            "grid_template_rows": null,
            "height": null,
            "justify_content": null,
            "justify_items": null,
            "left": null,
            "margin": null,
            "max_height": null,
            "max_width": null,
            "min_height": null,
            "min_width": null,
            "object_fit": null,
            "object_position": null,
            "order": null,
            "overflow": null,
            "overflow_x": null,
            "overflow_y": null,
            "padding": null,
            "right": null,
            "top": null,
            "visibility": null,
            "width": null
          }
        },
        "e19741a0fedf40abbc7d7368a10bf640": {
          "model_module": "@jupyter-widgets/controls",
          "model_name": "DescriptionStyleModel",
          "model_module_version": "1.5.0",
          "state": {
            "_model_module": "@jupyter-widgets/controls",
            "_model_module_version": "1.5.0",
            "_model_name": "DescriptionStyleModel",
            "_view_count": null,
            "_view_module": "@jupyter-widgets/base",
            "_view_module_version": "1.2.0",
            "_view_name": "StyleView",
            "description_width": ""
          }
        },
        "11c46aa05cbb45cfa836aa8edd02f9b4": {
          "model_module": "@jupyter-widgets/controls",
          "model_name": "LabelModel",
          "model_module_version": "1.5.0",
          "state": {
            "_dom_classes": [],
            "_model_module": "@jupyter-widgets/controls",
            "_model_module_version": "1.5.0",
            "_model_name": "LabelModel",
            "_view_count": null,
            "_view_module": "@jupyter-widgets/controls",
            "_view_module_version": "1.5.0",
            "_view_name": "LabelView",
            "description": "",
            "description_tooltip": null,
            "layout": "IPY_MODEL_6f6b86c3405749bbb1a7627929d1418a",
            "placeholder": "​",
            "style": "IPY_MODEL_c329ba00193d4598bfa274f00a84efd3",
            "value": "Kaggle credentials successfully validated."
          }
        },
        "6f6b86c3405749bbb1a7627929d1418a": {
          "model_module": "@jupyter-widgets/base",
          "model_name": "LayoutModel",
          "model_module_version": "1.2.0",
          "state": {
            "_model_module": "@jupyter-widgets/base",
            "_model_module_version": "1.2.0",
            "_model_name": "LayoutModel",
            "_view_count": null,
            "_view_module": "@jupyter-widgets/base",
            "_view_module_version": "1.2.0",
            "_view_name": "LayoutView",
            "align_content": null,
            "align_items": null,
            "align_self": null,
            "border": null,
            "bottom": null,
            "display": null,
            "flex": null,
            "flex_flow": null,
            "grid_area": null,
            "grid_auto_columns": null,
            "grid_auto_flow": null,
            "grid_auto_rows": null,
            "grid_column": null,
            "grid_gap": null,
            "grid_row": null,
            "grid_template_areas": null,
            "grid_template_columns": null,
            "grid_template_rows": null,
            "height": null,
            "justify_content": null,
            "justify_items": null,
            "left": null,
            "margin": null,
            "max_height": null,
            "max_width": null,
            "min_height": null,
            "min_width": null,
            "object_fit": null,
            "object_position": null,
            "order": null,
            "overflow": null,
            "overflow_x": null,
            "overflow_y": null,
            "padding": null,
            "right": null,
            "top": null,
            "visibility": null,
            "width": null
          }
        },
        "c329ba00193d4598bfa274f00a84efd3": {
          "model_module": "@jupyter-widgets/controls",
          "model_name": "DescriptionStyleModel",
          "model_module_version": "1.5.0",
          "state": {
            "_model_module": "@jupyter-widgets/controls",
            "_model_module_version": "1.5.0",
            "_model_name": "DescriptionStyleModel",
            "_view_count": null,
            "_view_module": "@jupyter-widgets/base",
            "_view_module_version": "1.2.0",
            "_view_name": "StyleView",
            "description_width": ""
          }
        }
      }
    }
  },
  "nbformat": 4,
  "nbformat_minor": 0
}